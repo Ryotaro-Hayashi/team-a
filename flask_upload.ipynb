{
  "nbformat": 4,
  "nbformat_minor": 0,
  "metadata": {
    "colab": {
      "name": "flask_upload.ipynb",
      "version": "0.3.2",
      "provenance": [],
      "collapsed_sections": [],
      "include_colab_link": true
    },
    "kernelspec": {
      "name": "python3",
      "display_name": "Python 3"
    }
  },
  "cells": [
    {
      "cell_type": "markdown",
      "metadata": {
        "id": "view-in-github",
        "colab_type": "text"
      },
      "source": [
        "<a href=\"https://colab.research.google.com/github/nalgo-intern/team-a/blob/master/flask_upload.ipynb\" target=\"_parent\"><img src=\"https://colab.research.google.com/assets/colab-badge.svg\" alt=\"Open In Colab\"/></a>"
      ]
    },
    {
      "cell_type": "code",
      "metadata": {
        "id": "CNK1BhakREPF",
        "colab_type": "code",
        "colab": {}
      },
      "source": [
        "html = \"\"\"\n",
        "<!DOCTYPE html>\n",
        "<html lang=\"ja\">\n",
        "  <head>\n",
        "    <meta charset=\"utf-8\">\n",
        "    <title>API Sample</title>\n",
        "  </head>\n",
        "  <body>\n",
        "    <form action=\"/\" method=\"post\" enctype=\"multipart/form-data\">\n",
        "      <input type=\"file\" name=\"image\">\n",
        "      <input type = submit value = Upload>\n",
        "    </form>\n",
        "  </body>\n",
        "</html>\n",
        "\"\"\"\n",
        "\n",
        "#Saving html file\n",
        "if not os.path.isdir( \"templates\" ):\n",
        "    os.makedirs( \"templates\" )\n",
        "with open(\"templates/index.html\", mode='w') as f:\n",
        "    f.write(html)"
      ],
      "execution_count": 0,
      "outputs": []
    },
    {
      "cell_type": "code",
      "metadata": {
        "id": "Z03c5tt3S3yp",
        "colab_type": "code",
        "colab": {}
      },
      "source": [
        "html = \"\"\"\n",
        "<!DOCTYPE html>\n",
        "<html lang=\"ja\">\n",
        "  <head>\n",
        "    <meta charset=\"utf-8\">\n",
        "    <title>API Sample</title>\n",
        "  </head>\n",
        "  <body>\n",
        "    <div>\n",
        "      <img src=\"images/result.jpg\" style=\"margin-top: 10px; vertical-align: bottom; width: 200px;\">\n",
        "    </div>\n",
        "  </body>\n",
        "</html>\n",
        "\"\"\"\n",
        "\n",
        "#Saving html file\n",
        "if not os.path.isdir( \"images\" ):\n",
        "    os.makedirs( \"images\" )\n",
        "with open(\"templates/result.html\", mode='w') as f:\n",
        "    f.write(html)\n"
      ],
      "execution_count": 0,
      "outputs": []
    },
    {
      "cell_type": "code",
      "metadata": {
        "id": "vjvhclJ3PLF6",
        "colab_type": "code",
        "outputId": "ee700550-29d4-4280-e86e-e750ed9765e3",
        "colab": {
          "base_uri": "https://localhost:8080/",
          "height": 119
        }
      },
      "source": [
        "import os\n",
        "import random\n",
        "from flask import Flask, render_template, request\n",
        "\n",
        "app = Flask(__name__)\n",
        "\n",
        "UPLOAD_FOLDER = './images'\n",
        "app.config['UPLOAD_FOLDER'] = UPLOAD_FOLDER\n",
        "\n",
        "@app.route('/', methods=['GET', 'POST'])\n",
        "def result():\n",
        " if request.method == 'POST':\n",
        "        img_file = request.files['image']\n",
        "        if img_file:\n",
        "            filename=\"result.jpg\"\n",
        "            img_file.save(os.path.join(app.config['UPLOAD_FOLDER'], filename))\n",
        "\n",
        "            return render_template('result.html', filename=filename)\n",
        "        else:\n",
        "            return ''' <p>No file</p> '''\n",
        " else:\n",
        "        return render_template(\"layout.html\")\n",
        "\n",
        "if __name__ == \"__main__\":\n",
        "    # webサーバー立ち上げ\n",
        "    app.run()\n"
      ],
      "execution_count": 0,
      "outputs": [
        {
          "output_type": "stream",
          "text": [
            " * Serving Flask app \"__main__\" (lazy loading)\n",
            " * Environment: production\n",
            "   WARNING: This is a development server. Do not use it in a production deployment.\n",
            "   Use a production WSGI server instead.\n",
            " * Debug mode: off\n"
          ],
          "name": "stdout"
        },
        {
          "output_type": "stream",
          "text": [
            " * Running on http://127.0.0.1:5000/ (Press CTRL+C to quit)\n"
          ],
          "name": "stderr"
        }
      ]
    }
  ]
}