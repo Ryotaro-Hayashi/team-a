{
  "nbformat": 4,
  "nbformat_minor": 0,
  "metadata": {
    "colab": {
      "name": "test.ipynb",
      "version": "0.3.2",
      "provenance": [],
      "collapsed_sections": [],
      "include_colab_link": true
    },
    "kernelspec": {
      "name": "python3",
      "display_name": "Python 3"
    },
    "accelerator": "GPU"
  },
  "cells": [
    {
      "cell_type": "markdown",
      "metadata": {
        "id": "view-in-github",
        "colab_type": "text"
      },
      "source": [
        "<a href=\"https://colab.research.google.com/github/nalgo-intern/team-a/blob/master/flow/test.ipynb\" target=\"_parent\"><img src=\"https://colab.research.google.com/assets/colab-badge.svg\" alt=\"Open In Colab\"/></a>"
      ]
    },
    {
      "cell_type": "code",
      "metadata": {
        "id": "-TBlnJaJk4WX",
        "colab_type": "code",
        "colab": {
          "base_uri": "https://localhost:8080/",
          "height": 122
        },
        "outputId": "908d3dbd-bad2-452a-ef90-c46c851d08c3"
      },
      "source": [
        "#ドライブをマウントさせる\n",
        "from google.colab import drive\n",
        "drive.mount('/content/drive')"
      ],
      "execution_count": 1,
      "outputs": [
        {
          "output_type": "stream",
          "text": [
            "Go to this URL in a browser: https://accounts.google.com/o/oauth2/auth?client_id=947318989803-6bn6qk8qdgf4n4g3pfee6491hc0brc4i.apps.googleusercontent.com&redirect_uri=urn%3Aietf%3Awg%3Aoauth%3A2.0%3Aoob&scope=email%20https%3A%2F%2Fwww.googleapis.com%2Fauth%2Fdocs.test%20https%3A%2F%2Fwww.googleapis.com%2Fauth%2Fdrive%20https%3A%2F%2Fwww.googleapis.com%2Fauth%2Fdrive.photos.readonly%20https%3A%2F%2Fwww.googleapis.com%2Fauth%2Fpeopleapi.readonly&response_type=code\n",
            "\n",
            "Enter your authorization code:\n",
            "··········\n",
            "Mounted at /content/drive\n"
          ],
          "name": "stdout"
        }
      ]
    },
    {
      "cell_type": "code",
      "metadata": {
        "id": "865rOlV-mYQy",
        "colab_type": "code",
        "colab": {
          "base_uri": "https://localhost:8080/",
          "height": 34
        },
        "outputId": "df5571de-682e-4868-8b1c-96eeabafca9e"
      },
      "source": [
        "cd /content/drive/My Drive/web_app"
      ],
      "execution_count": 5,
      "outputs": [
        {
          "output_type": "stream",
          "text": [
            "/content/drive/My Drive/web_app\n"
          ],
          "name": "stdout"
        }
      ]
    },
    {
      "cell_type": "code",
      "metadata": {
        "id": "PnKxmsIamqIA",
        "colab_type": "code",
        "colab": {
          "base_uri": "https://localhost:8080/",
          "height": 272
        },
        "outputId": "369afecb-c91e-4f46-de25-bd9960edecf4"
      },
      "source": [
        "!wget https://bin.equinox.io/c/4VmDzA7iaHb/ngrok-stable-linux-amd64.zip\n",
        "!unzip ngrok-stable-linux-amd64.zip\n",
        "\n",
        "get_ipython().system_raw('./ngrok http 6006 &')\n",
        "! curl -s http://localhost:4040/api/tunnels | python3 -c \\\n",
        "    \"import sys, json; print(json.load(sys.stdin)['tunnels'][0]['public_url'])\""
      ],
      "execution_count": 14,
      "outputs": [
        {
          "output_type": "stream",
          "text": [
            "--2019-08-28 05:29:47--  https://bin.equinox.io/c/4VmDzA7iaHb/ngrok-stable-linux-amd64.zip\n",
            "Resolving bin.equinox.io (bin.equinox.io)... 52.4.11.55, 52.55.191.55, 3.212.234.252, ...\n",
            "Connecting to bin.equinox.io (bin.equinox.io)|52.4.11.55|:443... connected.\n",
            "HTTP request sent, awaiting response... 200 OK\n",
            "Length: 13607069 (13M) [application/octet-stream]\n",
            "Saving to: ‘ngrok-stable-linux-amd64.zip.5’\n",
            "\n",
            "ngrok-stable-linux- 100%[===================>]  12.98M  16.5MB/s    in 0.8s    \n",
            "\n",
            "2019-08-28 05:29:48 (16.5 MB/s) - ‘ngrok-stable-linux-amd64.zip.5’ saved [13607069/13607069]\n",
            "\n",
            "Archive:  ngrok-stable-linux-amd64.zip\n",
            "replace ngrok? [y]es, [n]o, [A]ll, [N]one, [r]ename: y\n",
            "  inflating: ngrok                   \n",
            "https://5cb97678.ngrok.io\n"
          ],
          "name": "stdout"
        }
      ]
    },
    {
      "cell_type": "code",
      "metadata": {
        "id": "tCabHc7rm0jx",
        "colab_type": "code",
        "colab": {
          "base_uri": "https://localhost:8080/",
          "height": 887
        },
        "outputId": "d3956bb1-3640-4010-c7e3-9077737d295f"
      },
      "source": [
        "#predict.py実行\n",
        "!python predict.py"
      ],
      "execution_count": 15,
      "outputs": [
        {
          "output_type": "stream",
          "text": [
            "Using TensorFlow backend.\n",
            " * Serving Flask app \"predict\" (lazy loading)\n",
            " * Environment: production\n",
            "\u001b[31m   WARNING: This is a development server. Do not use it in a production deployment.\u001b[0m\n",
            "\u001b[2m   Use a production WSGI server instead.\u001b[0m\n",
            " * Debug mode: on\n",
            "WARNING: Logging before flag parsing goes to stderr.\n",
            "I0828 05:30:04.874886 139669398095744 _internal.py:122]  * Running on http://127.0.0.1:6006/ (Press CTRL+C to quit)\n",
            "I0828 05:30:04.875884 139669398095744 _internal.py:122]  * Restarting with stat\n",
            "Using TensorFlow backend.\n",
            "WARNING: Logging before flag parsing goes to stderr.\n",
            "W0828 05:30:07.352906 140587496880000 _internal.py:122]  * Debugger is active!\n",
            "I0828 05:30:07.353984 140587496880000 _internal.py:122]  * Debugger PIN: 170-228-086\n",
            "I0828 05:30:14.508166 140586570192640 _internal.py:122] 127.0.0.1 - - [28/Aug/2019 05:30:14] \"\u001b[33mGET / HTTP/1.1\u001b[0m\" 404 -\n",
            "I0828 05:30:15.093401 140586570192640 _internal.py:122] 127.0.0.1 - - [28/Aug/2019 05:30:15] \"\u001b[33mGET /favicon.ico HTTP/1.1\u001b[0m\" 404 -\n",
            "I0828 05:30:53.061582 140586570192640 _internal.py:122] 127.0.0.1 - - [28/Aug/2019 05:30:53] \"\u001b[37mGET /dfg4s4dfg4sdf54g545df4sgsdfg6sd5fgs HTTP/1.1\u001b[0m\" 200 -\n",
            "W0828 05:31:06.738938 140586570192640 deprecation_wrapper.py:119] From /usr/local/lib/python3.6/dist-packages/keras/backend/tensorflow_backend.py:74: The name tf.get_default_graph is deprecated. Please use tf.compat.v1.get_default_graph instead.\n",
            "\n",
            "W0828 05:31:06.775559 140586570192640 deprecation_wrapper.py:119] From /usr/local/lib/python3.6/dist-packages/keras/backend/tensorflow_backend.py:517: The name tf.placeholder is deprecated. Please use tf.compat.v1.placeholder instead.\n",
            "\n",
            "W0828 05:31:06.783619 140586570192640 deprecation_wrapper.py:119] From /usr/local/lib/python3.6/dist-packages/keras/backend/tensorflow_backend.py:4138: The name tf.random_uniform is deprecated. Please use tf.random.uniform instead.\n",
            "\n",
            "W0828 05:31:06.839686 140586570192640 deprecation_wrapper.py:119] From /usr/local/lib/python3.6/dist-packages/keras/backend/tensorflow_backend.py:3976: The name tf.nn.max_pool is deprecated. Please use tf.nn.max_pool2d instead.\n",
            "\n",
            "Downloading data from https://github.com/fchollet/deep-learning-models/releases/download/v0.1/vgg16_weights_tf_dim_ordering_tf_kernels_notop.h5\n",
            "58892288/58889256 [==============================] - 2s 0us/step\n",
            "W0828 05:31:10.006227 140586570192640 deprecation_wrapper.py:119] From /usr/local/lib/python3.6/dist-packages/keras/backend/tensorflow_backend.py:174: The name tf.get_default_session is deprecated. Please use tf.compat.v1.get_default_session instead.\n",
            "\n",
            "W0828 05:31:10.006559 140586570192640 deprecation_wrapper.py:119] From /usr/local/lib/python3.6/dist-packages/keras/backend/tensorflow_backend.py:181: The name tf.ConfigProto is deprecated. Please use tf.compat.v1.ConfigProto instead.\n",
            "\n",
            "2019-08-28 05:31:10.032381: I tensorflow/core/platform/profile_utils/cpu_utils.cc:94] CPU Frequency: 2200000000 Hz\n",
            "2019-08-28 05:31:10.032641: I tensorflow/compiler/xla/service/service.cc:168] XLA service 0x5983d40 executing computations on platform Host. Devices:\n",
            "2019-08-28 05:31:10.032675: I tensorflow/compiler/xla/service/service.cc:175]   StreamExecutor device (0): <undefined>, <undefined>\n",
            "2019-08-28 05:31:10.337162: W tensorflow/compiler/jit/mark_for_compilation_pass.cc:1412] (One-time warning): Not using XLA:CPU for cluster because envvar TF_XLA_FLAGS=--tf_xla_cpu_global_jit was not set.  If you want XLA:CPU, either set that envvar, or use experimental_jit_scope to enable XLA:CPU.  To confirm that XLA is active, pass --vmodule=xla_compilation_cache=1 (as a proper command-line flag, not via TF_XLA_FLAGS) or set the envvar XLA_FLAGS=--xla_hlo_profile.\n",
            "W0828 05:31:10.649658 140586570192640 deprecation.py:506] From /usr/local/lib/python3.6/dist-packages/keras/backend/tensorflow_backend.py:3445: calling dropout (from tensorflow.python.ops.nn_ops) with keep_prob is deprecated and will be removed in a future version.\n",
            "Instructions for updating:\n",
            "Please use `rate` instead of `keep_prob`. Rate should be set to `rate = 1 - keep_prob`.\n",
            "W0828 05:31:19.852982 140586570192640 deprecation_wrapper.py:119] From /usr/local/lib/python3.6/dist-packages/keras/optimizers.py:790: The name tf.train.Optimizer is deprecated. Please use tf.compat.v1.train.Optimizer instead.\n",
            "\n",
            "I0828 05:31:20.947703 140586570192640 _internal.py:122] 127.0.0.1 - - [28/Aug/2019 05:31:20] \"\u001b[37mPOST /dfg4s4dfg4sdf54g545df4sgsdfg6sd5fgs/upload HTTP/1.1\u001b[0m\" 200 -\n",
            "I0828 05:31:22.346924 140586570192640 _internal.py:122] 127.0.0.1 - - [28/Aug/2019 05:31:22] \"\u001b[37mGET /static/images/graph1566970265.7647943.jpg HTTP/1.1\u001b[0m\" 200 -\n",
            "I0828 05:31:45.013553 140586570192640 _internal.py:122] 127.0.0.1 - - [28/Aug/2019 05:31:45] \"\u001b[37mGET /sdfsdfasls546465ASDFAD545asdffasdlk HTTP/1.1\u001b[0m\" 200 -\n",
            "I0828 05:32:00.487991 140586570192640 _internal.py:122] 127.0.0.1 - - [28/Aug/2019 05:32:00] \"\u001b[37mGET /sdfsdfasls546465ASDFAD545asdffasdlk HTTP/1.1\u001b[0m\" 200 -\n",
            "I0828 05:32:59.844071 140586570192640 _internal.py:122] 127.0.0.1 - - [28/Aug/2019 05:32:59] \"\u001b[33mGET / HTTP/1.1\u001b[0m\" 404 -\n",
            "I0828 05:33:00.236799 140586570192640 _internal.py:122] 127.0.0.1 - - [28/Aug/2019 05:33:00] \"\u001b[37mGET /dfg4s4dfg4sdf54g545df4sgsdfg6sd5fgs HTTP/1.1\u001b[0m\" 200 -\n",
            "I0828 05:33:57.228903 140586570192640 _internal.py:122] 127.0.0.1 - - [28/Aug/2019 05:33:57] \"\u001b[37mPOST /dfg4s4dfg4sdf54g545df4sgsdfg6sd5fgs/upload HTTP/1.1\u001b[0m\" 200 -\n",
            "I0828 05:34:01.156818 140586570192640 _internal.py:122] 127.0.0.1 - - [28/Aug/2019 05:34:01] \"\u001b[37mGET /static/images/graph1566970434.933219.jpg HTTP/1.1\u001b[0m\" 200 -\n",
            "I0828 05:34:34.701189 140586570192640 _internal.py:122] 127.0.0.1 - - [28/Aug/2019 05:34:34] \"\u001b[37mGET /dfg4s4dfg4sdf54g545df4sgsdfg6sd5fgs HTTP/1.1\u001b[0m\" 200 -\n",
            "I0828 05:34:54.395982 140586570192640 _internal.py:122] 127.0.0.1 - - [28/Aug/2019 05:34:54] \"\u001b[1m\u001b[31mPOST /dfg4s4dfg4sdf54g545df4sgsdfg6sd5fgs/upload HTTP/1.1\u001b[0m\" 400 -\n",
            "^C\n"
          ],
          "name": "stdout"
        }
      ]
    }
  ]
}