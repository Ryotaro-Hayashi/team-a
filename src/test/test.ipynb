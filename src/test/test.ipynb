{
  "nbformat": 4,
  "nbformat_minor": 0,
  "metadata": {
    "colab": {
      "name": "test.ipynb",
      "version": "0.3.2",
      "provenance": [],
      "collapsed_sections": [],
      "include_colab_link": true
    },
    "kernelspec": {
      "name": "python3",
      "display_name": "Python 3"
    },
    "accelerator": "GPU"
  },
  "cells": [
    {
      "cell_type": "markdown",
      "metadata": {
        "id": "view-in-github",
        "colab_type": "text"
      },
      "source": [
        "<a href=\"https://colab.research.google.com/github/nalgo-intern/team-a/blob/master/src/test/test.ipynb\" target=\"_parent\"><img src=\"https://colab.research.google.com/assets/colab-badge.svg\" alt=\"Open In Colab\"/></a>"
      ]
    },
    {
      "cell_type": "markdown",
      "metadata": {
        "id": "FkXvpf8z-brR",
        "colab_type": "text"
      },
      "source": [
        "マイドライブに web_app フォルダを作成し、その中にtransfer_learning.ipynd を実行した結果、マイドライブに保存されているmonkey.hdf5を入れる。また、team-a/src/flaskの中のファイルもすべて web_app フォルダの中に入れる。"
      ]
    },
    {
      "cell_type": "code",
      "metadata": {
        "id": "-TBlnJaJk4WX",
        "colab_type": "code",
        "outputId": "cb6467ea-df8f-438b-cf8b-d71d091d185a",
        "colab": {
          "base_uri": "https://localhost:8080/",
          "height": 122
        }
      },
      "source": [
        "#ドライブをマウントさせる\n",
        "from google.colab import drive\n",
        "drive.mount('/content/drive')"
      ],
      "execution_count": 0,
      "outputs": [
        {
          "output_type": "stream",
          "text": [
            "Go to this URL in a browser: https://accounts.google.com/o/oauth2/auth?client_id=947318989803-6bn6qk8qdgf4n4g3pfee6491hc0brc4i.apps.googleusercontent.com&redirect_uri=urn%3Aietf%3Awg%3Aoauth%3A2.0%3Aoob&scope=email%20https%3A%2F%2Fwww.googleapis.com%2Fauth%2Fdocs.test%20https%3A%2F%2Fwww.googleapis.com%2Fauth%2Fdrive%20https%3A%2F%2Fwww.googleapis.com%2Fauth%2Fdrive.photos.readonly%20https%3A%2F%2Fwww.googleapis.com%2Fauth%2Fpeopleapi.readonly&response_type=code\n",
            "\n",
            "Enter your authorization code:\n",
            "··········\n",
            "Mounted at /content/drive\n"
          ],
          "name": "stdout"
        }
      ]
    },
    {
      "cell_type": "code",
      "metadata": {
        "id": "865rOlV-mYQy",
        "colab_type": "code",
        "outputId": "cc691d9e-2ab0-4f7e-ddaa-d469781441a0",
        "colab": {
          "base_uri": "https://localhost:8080/",
          "height": 34
        }
      },
      "source": [
        "cd /content/drive/My Drive/web_app"
      ],
      "execution_count": 0,
      "outputs": [
        {
          "output_type": "stream",
          "text": [
            "/content/drive/My Drive/web_app\n"
          ],
          "name": "stdout"
        }
      ]
    },
    {
      "cell_type": "code",
      "metadata": {
        "id": "PnKxmsIamqIA",
        "colab_type": "code",
        "outputId": "628e939f-89f1-4456-d3f5-25193e98f24a",
        "colab": {
          "base_uri": "https://localhost:8080/",
          "height": 255
        }
      },
      "source": [
        "!wget https://bin.equinox.io/c/4VmDzA7iaHb/ngrok-stable-linux-amd64.zip\n",
        "!unzip ngrok-stable-linux-amd64.zip\n",
        "\n",
        "get_ipython().system_raw('./ngrok http 6006 &')\n",
        "! curl -s http://localhost:4040/api/tunnels | python3 -c \\\n",
        "    \"import sys, json; print(json.load(sys.stdin)['tunnels'][0]['public_url'])\""
      ],
      "execution_count": 0,
      "outputs": [
        {
          "output_type": "stream",
          "text": [
            "--2019-08-29 01:36:16--  https://bin.equinox.io/c/4VmDzA7iaHb/ngrok-stable-linux-amd64.zip\n",
            "Resolving bin.equinox.io (bin.equinox.io)... 54.236.200.27, 52.72.230.122, 34.202.125.55, ...\n",
            "Connecting to bin.equinox.io (bin.equinox.io)|54.236.200.27|:443... connected.\n",
            "HTTP request sent, awaiting response... 200 OK\n",
            "Length: 13607069 (13M) [application/octet-stream]\n",
            "Saving to: ‘ngrok-stable-linux-amd64.zip’\n",
            "\n",
            "\r          ngrok-sta   0%[                    ]       0  --.-KB/s               \r         ngrok-stab   8%[>                   ]   1.07M  5.03MB/s               \r        ngrok-stabl  75%[==============>     ]   9.85M  22.9MB/s               \rngrok-stable-linux- 100%[===================>]  12.98M  27.8MB/s    in 0.5s    \n",
            "\n",
            "2019-08-29 01:36:17 (27.8 MB/s) - ‘ngrok-stable-linux-amd64.zip’ saved [13607069/13607069]\n",
            "\n",
            "Archive:  ngrok-stable-linux-amd64.zip\n",
            "  inflating: ngrok                   \n",
            "http://8ee2d203.ngrok.io\n"
          ],
          "name": "stdout"
        }
      ]
    },
    {
      "cell_type": "code",
      "metadata": {
        "id": "tCabHc7rm0jx",
        "colab_type": "code",
        "outputId": "b39edf73-fd38-46ab-a7af-7bb2514862af",
        "colab": {
          "base_uri": "https://localhost:8080/",
          "height": 1000
        }
      },
      "source": [
        "#predict.py実行\n",
        "!python predict.py"
      ],
      "execution_count": 0,
      "outputs": [
        {
          "output_type": "stream",
          "text": [
            "Using TensorFlow backend.\n",
            " * Serving Flask app \"predict\" (lazy loading)\n",
            " * Environment: production\n",
            "\u001b[31m   WARNING: This is a development server. Do not use it in a production deployment.\u001b[0m\n",
            "\u001b[2m   Use a production WSGI server instead.\u001b[0m\n",
            " * Debug mode: on\n",
            "WARNING: Logging before flag parsing goes to stderr.\n",
            "I0829 01:36:30.082308 139844105525120 _internal.py:122]  * Running on http://127.0.0.1:6006/ (Press CTRL+C to quit)\n",
            "I0829 01:36:30.083385 139844105525120 _internal.py:122]  * Restarting with stat\n",
            "Using TensorFlow backend.\n",
            "WARNING: Logging before flag parsing goes to stderr.\n",
            "W0829 01:36:32.633365 139728141686656 _internal.py:122]  * Debugger is active!\n",
            "I0829 01:36:32.646067 139728141686656 _internal.py:122]  * Debugger PIN: 129-420-764\n",
            "I0829 01:37:30.099805 139726666917632 _internal.py:122] 127.0.0.1 - - [29/Aug/2019 01:37:30] \"\u001b[33mGET / HTTP/1.1\u001b[0m\" 404 -\n",
            "I0829 01:37:30.607070 139726666917632 _internal.py:122] 127.0.0.1 - - [29/Aug/2019 01:37:30] \"\u001b[33mGET /favicon.ico HTTP/1.1\u001b[0m\" 404 -\n",
            "I0829 01:37:35.924557 139726666917632 _internal.py:122] 127.0.0.1 - - [29/Aug/2019 01:37:35] \"\u001b[37mGET /dfg4s4dfg4sdf54g545df4sgsdfg6sd5fgs HTTP/1.1\u001b[0m\" 200 -\n",
            "I0829 01:37:36.562947 139726666917632 _internal.py:122] 127.0.0.1 - - [29/Aug/2019 01:37:36] \"\u001b[33mGET /static/images/chimpanzee.png HTTP/1.1\u001b[0m\" 404 -\n",
            "I0829 01:37:36.563600 139726658262784 _internal.py:122] 127.0.0.1 - - [29/Aug/2019 01:37:36] \"\u001b[33mGET /static/images/gorilla.png HTTP/1.1\u001b[0m\" 404 -\n",
            "I0829 01:37:36.564234 139726649870080 _internal.py:122] 127.0.0.1 - - [29/Aug/2019 01:37:36] \"\u001b[33mGET /static/images/saru.png HTTP/1.1\u001b[0m\" 404 -\n",
            "W0829 01:37:52.484985 139726649870080 deprecation_wrapper.py:119] From /usr/local/lib/python3.6/dist-packages/keras/backend/tensorflow_backend.py:74: The name tf.get_default_graph is deprecated. Please use tf.compat.v1.get_default_graph instead.\n",
            "\n",
            "W0829 01:37:52.523690 139726649870080 deprecation_wrapper.py:119] From /usr/local/lib/python3.6/dist-packages/keras/backend/tensorflow_backend.py:517: The name tf.placeholder is deprecated. Please use tf.compat.v1.placeholder instead.\n",
            "\n",
            "W0829 01:37:52.529621 139726649870080 deprecation_wrapper.py:119] From /usr/local/lib/python3.6/dist-packages/keras/backend/tensorflow_backend.py:4138: The name tf.random_uniform is deprecated. Please use tf.random.uniform instead.\n",
            "\n",
            "W0829 01:37:52.572577 139726649870080 deprecation_wrapper.py:119] From /usr/local/lib/python3.6/dist-packages/keras/backend/tensorflow_backend.py:3976: The name tf.nn.max_pool is deprecated. Please use tf.nn.max_pool2d instead.\n",
            "\n",
            "Downloading data from https://github.com/fchollet/deep-learning-models/releases/download/v0.1/vgg16_weights_tf_dim_ordering_tf_kernels_notop.h5\n",
            "58892288/58889256 [==============================] - 1s 0us/step\n",
            "W0829 01:37:54.064779 139726649870080 deprecation_wrapper.py:119] From /usr/local/lib/python3.6/dist-packages/keras/backend/tensorflow_backend.py:174: The name tf.get_default_session is deprecated. Please use tf.compat.v1.get_default_session instead.\n",
            "\n",
            "W0829 01:37:54.065034 139726649870080 deprecation_wrapper.py:119] From /usr/local/lib/python3.6/dist-packages/keras/backend/tensorflow_backend.py:181: The name tf.ConfigProto is deprecated. Please use tf.compat.v1.ConfigProto instead.\n",
            "\n",
            "2019-08-29 01:37:54.084815: I tensorflow/core/platform/profile_utils/cpu_utils.cc:94] CPU Frequency: 2300000000 Hz\n",
            "2019-08-29 01:37:54.086872: I tensorflow/compiler/xla/service/service.cc:168] XLA service 0x7311880 executing computations on platform Host. Devices:\n",
            "2019-08-29 01:37:54.086916: I tensorflow/compiler/xla/service/service.cc:175]   StreamExecutor device (0): <undefined>, <undefined>\n",
            "2019-08-29 01:37:54.091483: I tensorflow/stream_executor/platform/default/dso_loader.cc:42] Successfully opened dynamic library libcuda.so.1\n",
            "2019-08-29 01:37:54.220414: I tensorflow/stream_executor/cuda/cuda_gpu_executor.cc:1005] successful NUMA node read from SysFS had negative value (-1), but there must be at least one NUMA node, so returning NUMA node zero\n",
            "2019-08-29 01:37:54.221303: I tensorflow/compiler/xla/service/service.cc:168] XLA service 0x7311a40 executing computations on platform CUDA. Devices:\n",
            "2019-08-29 01:37:54.221360: I tensorflow/compiler/xla/service/service.cc:175]   StreamExecutor device (0): Tesla K80, Compute Capability 3.7\n",
            "2019-08-29 01:37:54.222688: I tensorflow/stream_executor/cuda/cuda_gpu_executor.cc:1005] successful NUMA node read from SysFS had negative value (-1), but there must be at least one NUMA node, so returning NUMA node zero\n",
            "2019-08-29 01:37:54.223425: I tensorflow/core/common_runtime/gpu/gpu_device.cc:1640] Found device 0 with properties: \n",
            "name: Tesla K80 major: 3 minor: 7 memoryClockRate(GHz): 0.8235\n",
            "pciBusID: 0000:00:04.0\n",
            "2019-08-29 01:37:54.235081: I tensorflow/stream_executor/platform/default/dso_loader.cc:42] Successfully opened dynamic library libcudart.so.10.0\n",
            "2019-08-29 01:37:54.423083: I tensorflow/stream_executor/platform/default/dso_loader.cc:42] Successfully opened dynamic library libcublas.so.10.0\n",
            "2019-08-29 01:37:54.531069: I tensorflow/stream_executor/platform/default/dso_loader.cc:42] Successfully opened dynamic library libcufft.so.10.0\n",
            "2019-08-29 01:37:54.558672: I tensorflow/stream_executor/platform/default/dso_loader.cc:42] Successfully opened dynamic library libcurand.so.10.0\n",
            "2019-08-29 01:37:54.794602: I tensorflow/stream_executor/platform/default/dso_loader.cc:42] Successfully opened dynamic library libcusolver.so.10.0\n",
            "2019-08-29 01:37:54.923716: I tensorflow/stream_executor/platform/default/dso_loader.cc:42] Successfully opened dynamic library libcusparse.so.10.0\n",
            "2019-08-29 01:37:55.345526: I tensorflow/stream_executor/platform/default/dso_loader.cc:42] Successfully opened dynamic library libcudnn.so.7\n",
            "2019-08-29 01:37:55.345759: I tensorflow/stream_executor/cuda/cuda_gpu_executor.cc:1005] successful NUMA node read from SysFS had negative value (-1), but there must be at least one NUMA node, so returning NUMA node zero\n",
            "2019-08-29 01:37:55.346599: I tensorflow/stream_executor/cuda/cuda_gpu_executor.cc:1005] successful NUMA node read from SysFS had negative value (-1), but there must be at least one NUMA node, so returning NUMA node zero\n",
            "2019-08-29 01:37:55.347307: I tensorflow/core/common_runtime/gpu/gpu_device.cc:1763] Adding visible gpu devices: 0\n",
            "2019-08-29 01:37:55.350170: I tensorflow/stream_executor/platform/default/dso_loader.cc:42] Successfully opened dynamic library libcudart.so.10.0\n",
            "2019-08-29 01:37:55.351858: I tensorflow/core/common_runtime/gpu/gpu_device.cc:1181] Device interconnect StreamExecutor with strength 1 edge matrix:\n",
            "2019-08-29 01:37:55.351902: I tensorflow/core/common_runtime/gpu/gpu_device.cc:1187]      0 \n",
            "2019-08-29 01:37:55.351914: I tensorflow/core/common_runtime/gpu/gpu_device.cc:1200] 0:   N \n",
            "2019-08-29 01:37:55.357581: I tensorflow/stream_executor/cuda/cuda_gpu_executor.cc:1005] successful NUMA node read from SysFS had negative value (-1), but there must be at least one NUMA node, so returning NUMA node zero\n",
            "2019-08-29 01:37:55.358361: I tensorflow/stream_executor/cuda/cuda_gpu_executor.cc:1005] successful NUMA node read from SysFS had negative value (-1), but there must be at least one NUMA node, so returning NUMA node zero\n",
            "2019-08-29 01:37:55.359080: W tensorflow/core/common_runtime/gpu/gpu_bfc_allocator.cc:40] Overriding allow_growth setting because the TF_FORCE_GPU_ALLOW_GROWTH environment variable is set. Original config value was 0.\n",
            "2019-08-29 01:37:55.359133: I tensorflow/core/common_runtime/gpu/gpu_device.cc:1326] Created TensorFlow device (/job:localhost/replica:0/task:0/device:GPU:0 with 10749 MB memory) -> physical GPU (device: 0, name: Tesla K80, pci bus id: 0000:00:04.0, compute capability: 3.7)\n",
            "W0829 01:37:57.969322 139726649870080 deprecation.py:506] From /usr/local/lib/python3.6/dist-packages/keras/backend/tensorflow_backend.py:3445: calling dropout (from tensorflow.python.ops.nn_ops) with keep_prob is deprecated and will be removed in a future version.\n",
            "Instructions for updating:\n",
            "Please use `rate` instead of `keep_prob`. Rate should be set to `rate = 1 - keep_prob`.\n",
            "W0829 01:38:04.637462 139726649870080 deprecation_wrapper.py:119] From /usr/local/lib/python3.6/dist-packages/keras/optimizers.py:790: The name tf.train.Optimizer is deprecated. Please use tf.compat.v1.train.Optimizer instead.\n",
            "\n",
            "2019-08-29 01:38:04.856531: I tensorflow/stream_executor/platform/default/dso_loader.cc:42] Successfully opened dynamic library libcublas.so.10.0\n",
            "2019-08-29 01:38:05.485335: I tensorflow/stream_executor/platform/default/dso_loader.cc:42] Successfully opened dynamic library libcudnn.so.7\n",
            "I0829 01:38:09.383220 139726649870080 _internal.py:122] 127.0.0.1 - - [29/Aug/2019 01:38:09] \"\u001b[37mPOST /dfg4s4dfg4sdf54g545df4sgsdfg6sd5fgs/upload HTTP/1.1\u001b[0m\" 200 -\n",
            "I0829 01:38:09.654473 139726649870080 _internal.py:122] 127.0.0.1 - - [29/Aug/2019 01:38:09] \"\u001b[37mGET /static/images/graph1567042671.434571.jpg HTTP/1.1\u001b[0m\" 200 -\n",
            "I0829 01:38:13.698184 139726649870080 _internal.py:122] 127.0.0.1 - - [29/Aug/2019 01:38:13] \"\u001b[37mGET /sdfsdfasls546465ASDFAD545asdffasdlk HTTP/1.1\u001b[0m\" 200 -\n",
            "I0829 01:38:24.698703 139726649870080 _internal.py:122] 127.0.0.1 - - [29/Aug/2019 01:38:24] \"\u001b[37mGET /dfg4s4dfg4sdf54g545df4sgsdfg6sd5fgs HTTP/1.1\u001b[0m\" 200 -\n",
            "I0829 01:38:24.991943 139726649870080 _internal.py:122] 127.0.0.1 - - [29/Aug/2019 01:38:24] \"\u001b[33mGET /static/images/saru.png HTTP/1.1\u001b[0m\" 404 -\n",
            "I0829 01:38:24.999883 139726048315136 _internal.py:122] 127.0.0.1 - - [29/Aug/2019 01:38:24] \"\u001b[33mGET /static/images/gorilla.png HTTP/1.1\u001b[0m\" 404 -\n",
            "I0829 01:38:25.000553 139726649870080 _internal.py:122] 127.0.0.1 - - [29/Aug/2019 01:38:25] \"\u001b[33mGET /static/images/chimpanzee.png HTTP/1.1\u001b[0m\" 404 -\n"
          ],
          "name": "stdout"
        }
      ]
    }
  ]
}