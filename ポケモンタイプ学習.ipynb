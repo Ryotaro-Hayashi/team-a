{
  "nbformat": 4,
  "nbformat_minor": 0,
  "metadata": {
    "colab": {
      "name": "ポケモンタイプ学習.ipynb",
      "version": "0.3.2",
      "provenance": [],
      "include_colab_link": true
    },
    "kernelspec": {
      "name": "python3",
      "display_name": "Python 3"
    },
    "accelerator": "GPU"
  },
  "cells": [
    {
      "cell_type": "markdown",
      "metadata": {
        "id": "view-in-github",
        "colab_type": "text"
      },
      "source": [
        "<a href=\"https://colab.research.google.com/github/nalgo-intern/team-a/blob/master/%E3%83%9D%E3%82%B1%E3%83%A2%E3%83%B3%E3%82%BF%E3%82%A4%E3%83%97%E5%AD%A6%E7%BF%92.ipynb\" target=\"_parent\"><img src=\"https://colab.research.google.com/assets/colab-badge.svg\" alt=\"Open In Colab\"/></a>"
      ]
    },
    {
      "cell_type": "markdown",
      "metadata": {
        "id": "Zob1LVlDQ7O4",
        "colab_type": "text"
      },
      "source": [
        "#numpyのVerが古くないと走らない"
      ]
    },
    {
      "cell_type": "code",
      "metadata": {
        "id": "lGW91eazHR9d",
        "colab_type": "code",
        "colab": {}
      },
      "source": [
        "!pip install numpy==1.16."
      ],
      "execution_count": 0,
      "outputs": []
    },
    {
      "cell_type": "markdown",
      "metadata": {
        "id": "dI3qEKO9RZzG",
        "colab_type": "text"
      },
      "source": [
        "#githubからデータを取得"
      ]
    },
    {
      "cell_type": "code",
      "metadata": {
        "id": "gwuEBO5S2fG5",
        "colab_type": "code",
        "colab": {}
      },
      "source": [
        "!git clone https://github.com/nalgo-intern/team-b.git\n",
        "%cd team-b/learning_program\n",
        "!mkdir learned_data"
      ],
      "execution_count": 0,
      "outputs": []
    },
    {
      "cell_type": "markdown",
      "metadata": {
        "id": "EkJT-kQnRepn",
        "colab_type": "text"
      },
      "source": [
        "#データセットを作成"
      ]
    },
    {
      "cell_type": "code",
      "metadata": {
        "id": "CqRnDb_56vBZ",
        "colab_type": "code",
        "colab": {}
      },
      "source": [
        "from PIL import Image\n",
        "import os, glob\n",
        "import numpy as np\n",
        "import random, math\n",
        "\n",
        "root_dir = \"../pictures\"\n",
        "types =[\"normal\", \"fire\", \"water\", \"grass\", \"electric\", \"ice\", \"fighting\", \"poison\", \"ground\", \"flying\", \"psychic\", \"bug\", \"rock\", \"dragon\"]\n",
        "\n",
        "X = []\n",
        "Y = []\n",
        "\n",
        "def make_sample(files):\n",
        "    global X, Y\n",
        "    X = []\n",
        "    Y = []\n",
        "    for cat, fname in files:\n",
        "        add_sample(cat, fname)\n",
        "    return np.array(X), np.array(Y)\n",
        "\n",
        "\n",
        "def add_sample(cat, fname):\n",
        "    img = Image.open(fname)\n",
        "    img = img.convert(\"RGB\")\n",
        "    img = img.resize((240, 240))\n",
        "    data = np.asarray(img)\n",
        "    X.append(data)\n",
        "    Y.append(cat)\n",
        "\n",
        "allfiles = []\n",
        "\n",
        "for idx, cat in enumerate(types):\n",
        "    image_dir = root_dir + \"/\" + cat\n",
        "    files = glob.glob(image_dir + \"/*.jpg\")\n",
        "    for f in files:\n",
        "        allfiles.append((idx, f))\n",
        "\n",
        "random.shuffle(allfiles)\n",
        "th = math.floor(len(allfiles) * 0.8)\n",
        "train = allfiles[0:th]\n",
        "test = allfiles[th:]\n",
        "X_train, y_train = make_sample(train)\n",
        "X_test, y_test = make_sample(test)\n",
        "xy = (X_train, X_test, y_train, y_test)\n",
        "\n",
        "np.save(\"./dataset.npy\", xy)"
      ],
      "execution_count": 0,
      "outputs": []
    },
    {
      "cell_type": "markdown",
      "metadata": {
        "id": "n0H8LUHSRjhu",
        "colab_type": "text"
      },
      "source": [
        "#学習"
      ]
    },
    {
      "cell_type": "code",
      "metadata": {
        "id": "fx_QuEgXBttq",
        "colab_type": "code",
        "colab": {}
      },
      "source": [
        "import matplotlib.pyplot as plt\n",
        "import keras\n",
        "from keras.datasets import cifar10\n",
        "from keras.models import Sequential\n",
        "from keras.layers import Dense, Dropout, Activation, Flatten\n",
        "from keras.layers import Conv2D, MaxPooling2D\n",
        "import numpy as np\n",
        "\n",
        "num_classes = 14\n",
        "im_rows = 240\n",
        "im_cols = 240\n",
        "in_shape = (im_rows, im_cols, 3)\n",
        "\n",
        "# データを読み込む --- (*1)\n",
        "X_train, X_test, y_train, y_test = np.load('./dataset.npy')\n",
        "\n",
        "# データを正規化 --- (*2)\n",
        "X_train = X_train.astype('float32') / 255\n",
        "X_test = X_test.astype('float32') / 255\n",
        "# ラベルデータをOne-Hot形式に変換\n",
        "y_train = keras.utils.to_categorical(y_train, num_classes)\n",
        "y_test = keras.utils.to_categorical(y_test, num_classes)\n",
        "\n",
        "# モデルを定義 --- (*3)\n",
        "model = Sequential()\n",
        "model.add(Conv2D(32, (3, 3), padding='same',\n",
        "                 input_shape=in_shape))\n",
        "model.add(Activation('relu'))\n",
        "model.add(Conv2D(32, (3, 3)))\n",
        "model.add(Activation('relu'))\n",
        "model.add(MaxPooling2D(pool_size=(2, 2)))\n",
        "model.add(Dropout(0.25))\n",
        "\n",
        "model.add(Conv2D(64, (3, 3), padding='same'))\n",
        "model.add(Activation('relu'))\n",
        "model.add(Conv2D(64, (3, 3)))\n",
        "model.add(Activation('relu'))\n",
        "model.add(MaxPooling2D(pool_size=(2, 2)))\n",
        "model.add(Dropout(0.25))\n",
        "\n",
        "model.add(Flatten())\n",
        "model.add(Dense(512))\n",
        "model.add(Activation('relu'))\n",
        "model.add(Dropout(0.5))\n",
        "model.add(Dense(num_classes))\n",
        "model.add(Activation('softmax'))\n",
        "\n",
        "# モデルをコンパイル --- (*4)\n",
        "model.compile(\n",
        "    loss='categorical_crossentropy',\n",
        "    optimizer='adam',\n",
        "    metrics=['accuracy'])\n",
        "\n",
        "# 学習を実行 --- (*5)\n",
        "hist = model.fit(X_train, y_train,\n",
        "    batch_size=32, epochs=50,\n",
        "    verbose=1,\n",
        "    validation_data=(X_test, y_test))\n",
        "\n",
        "# モデルを評価 --- (*6)\n",
        "score = model.evaluate(X_test, y_test, verbose=1)\n",
        "print('正解率=', score[1], 'loss=', score[0])\n",
        "\n",
        "# 学習の様子をグラフへ描画 --- (*7)\n",
        "plt.plot(hist.history['acc'])\n",
        "plt.plot(hist.history['val_acc'])\n",
        "plt.title('Accuracy')\n",
        "plt.legend(['train', 'test'], loc='upper left')\n",
        "plt.show()\n",
        "plt.plot(hist.history['loss'])\n",
        "plt.plot(hist.history['val_loss'])\n",
        "plt.title('Loss')\n",
        "plt.legend(['train', 'test'], loc='upper left')\n",
        "plt.show()\n",
        "\n",
        "#モデル・重みの保存\n",
        "json_string = model.model.to_json()\n",
        "open('./learned_data/data.json', 'w').write(json_string)\n",
        "\n",
        "hdf5_file = \"./learned_data/data.hdf5\"\n",
        "model.model.save_weights(hdf5_file)"
      ],
      "execution_count": 0,
      "outputs": []
    },
    {
      "cell_type": "markdown",
      "metadata": {
        "id": "MUs5LKP3Rmv5",
        "colab_type": "text"
      },
      "source": [
        "#テスト用データのアップロード  \n",
        "'test.jpg'というファイル名にすること"
      ]
    },
    {
      "cell_type": "code",
      "metadata": {
        "id": "Mh17ug6kIQWE",
        "colab_type": "code",
        "colab": {}
      },
      "source": [
        "from google.colab import files\n",
        "uploaded = files.upload()"
      ],
      "execution_count": 0,
      "outputs": []
    },
    {
      "cell_type": "markdown",
      "metadata": {
        "id": "AHVK_V9WRvd2",
        "colab_type": "text"
      },
      "source": [
        "#判別用プログラム  \n",
        "webアプリに組み込めるように関数化済み"
      ]
    },
    {
      "cell_type": "code",
      "metadata": {
        "id": "taUfcLU-NjL_",
        "colab_type": "code",
        "colab": {}
      },
      "source": [
        "def main(img_path):    \n",
        "    from keras import models\n",
        "    import numpy as np\n",
        "    from keras.preprocessing import image\n",
        "    from keras.models import model_from_json\n",
        "\n",
        "    types =[\"normal\", \"fire\", \"water\", \"grass\", \"electric\", \"ice\", \"fighting\", \"poison\", \"ground\", \"flying\", \"psychic\", \"bug\", \"rock\", \"dragon\"]\n",
        "    types_jp = [\"ノーマル\", \"ほのお\", \"みず\", \"くさ\", \"でんき\", \"こおり\", \"かくとう\", \"どく\", \"じめん\", \"ひこう\", \"エスパー\", \"むし\", \"いわ\", \"ドラゴン\"]\n",
        "\n",
        "    model = model_from_json(open('./learned_data/data.json').read())\n",
        "    model.load_weights('./learned_data/data.hdf5')\n",
        "\n",
        "    img_path = img_path \n",
        "    img = image.load_img(img_path, target_size=(240,240,3))\n",
        "    x = image.img_to_array(img)\n",
        "    x = np.expand_dims(x, axis=0)\n",
        "\n",
        "    features = model.predict(x)\n",
        "\n",
        "    for i in range(0,14):\n",
        "        if features[0,i] == 1:\n",
        "            break\n",
        "    \n",
        "    return types_jp[i]\n",
        "\n",
        "\n",
        "if __name__ == '__main__':\n",
        "    result = main('test.jpg')\n",
        "    print(result)"
      ],
      "execution_count": 0,
      "outputs": []
    },
    {
      "cell_type": "markdown",
      "metadata": {
        "id": "gFTVo2tiR8fm",
        "colab_type": "text"
      },
      "source": [
        "#以下GDriveへ学習済みデータをバックアップ"
      ]
    },
    {
      "cell_type": "code",
      "metadata": {
        "id": "s2qcKtYZOdvE",
        "colab_type": "code",
        "colab": {}
      },
      "source": [
        "from google.colab import drive\n",
        "drive.mount('/content/drive')"
      ],
      "execution_count": 0,
      "outputs": []
    },
    {
      "cell_type": "code",
      "metadata": {
        "id": "P5I4-aEPOmOv",
        "colab_type": "code",
        "colab": {}
      },
      "source": [
        "!cp -R /content/team-b/learning_program/learned_data /content/drive/My\\ Drive"
      ],
      "execution_count": 0,
      "outputs": []
    }
  ]
}